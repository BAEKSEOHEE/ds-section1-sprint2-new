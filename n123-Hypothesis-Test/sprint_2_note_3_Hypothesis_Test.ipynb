{
  "nbformat": 4,
  "nbformat_minor": 0,
  "metadata": {
    "colab": {
      "name": "sprint 2 - note 3: Hypothesis Test.ipynb",
      "provenance": [],
      "collapsed_sections": [],
      "toc_visible": true
    },
    "kernelspec": {
      "name": "python3",
      "display_name": "Python 3"
    },
    "language_info": {
      "name": "python"
    }
  },
  "cells": [
    {
      "cell_type": "markdown",
      "source": [
        "<img src='https://i.imgur.com/RDAD11M.png' width = '200' align = 'right'>\n",
        "\n",
        "## *DATA SCIENCE / SECTION 1 / SPRINT 2 / NOTE 3*\n",
        "\n",
        "---\n",
        "\n",
        "# \bHypothesis Test\n",
        "\n",
        "## 🏆 학습 목표 \n",
        "- 상황에 맞게 대안가설과 대립가설을 세울수 있다.\n",
        "- 1종 오류와 2종 오류 설명할 수 있다.\n",
        "- 유의 수준을 이용하여 옳은 가설을 채택할 수 있다. \n",
        "\n",
        "---"
      ],
      "metadata": {
        "id": "Q63M1DuiVeZy"
      }
    },
    {
      "cell_type": "markdown",
      "source": [
        "이 노트는 아래의 구성으로 이뤄져 있습니다.\n",
        "- **Part 0. 도입**  \n",
        "  0-1. 기획 배경  \n",
        "  0-2. Data Description  \n",
        "\n",
        "- **Part 1. 가설 검정** <br>\n",
        "  1-1. 귀무가설과 대립가설 <br>\n",
        "  1-2. 1종 오류 vs 2종 오류 <br>\n",
        "  1-3. 가설 세우기 <br>\n",
        "\n",
        "- **Part 2. 검정 방법론**  \n",
        "  2-1. 단측 검정\n",
        "  2-2. 양측 검정  \n",
        "\n",
        "- **Part 3. 결론**\n"
      ],
      "metadata": {
        "id": "EuyNwo6dZzhE"
      }
    },
    {
      "cell_type": "markdown",
      "source": [
        "# **Part 0. 도입**\n",
        "<img width='500' src='https://i.imgur.com/2EQjai4.png'>\n",
        "\n",
        "\n",
        "\n",
        "\n",
        "\n",
        "\n",
        "\n"
      ],
      "metadata": {
        "id": "ehjLwMS1WdoH"
      }
    },
    {
      "cell_type": "markdown",
      "source": [
        "## **0-1. 기획 배경**\n",
        "\n",
        "- 한 남자가 있습니다. 이 남자는 법을 어겼다는 이유로 재판을 받고 있습니다. <br>\n",
        "하지만 **충분한 증거**를 모아 유죄 확정판결이 나기 전까지 이 남자는 **무죄로 추정**받게 됩니다. <br>\n",
        "이것을 **`무죄추정의 원칙`** 이라고 하며, 이는 **`가설검정의 대표적인 예`**입니다. <br>\n",
        "이렇듯 가설검정은 일상생활에 알게 모르게 녹아 있는 통계 지식으로 <br>\n",
        "\n",
        " 우리는 이번 Case Study를 통해 가설검정에 대해 공부해 보도록 합니다.\n",
        "\n"
      ],
      "metadata": {
        "id": "euifl_cZtH4u"
      }
    },
    {
      "cell_type": "markdown",
      "source": [
        "## **0-2. Data Description**\n",
        "\n",
        "- 우리는 청소년기에 섭취한 성장 호르몬제가 성인의 키에 영향을 주는지 **`가설검정을 시행`**하고자 합니다.  \n",
        " **`청소년기에 성장 호르몬제를 섭취한 성인의 키와 그렇지 않은 성인의 키의 데이터`**를 이용하여 ***가설의 합당성 여부를 확인하고자 합니다.***\n",
        "\n",
        "\n",
        "<img width='400' src='https://i.imgur.com/l3SsUsc.png'>\n",
        "\n",
        "> `성장 호르몬 데이터` \n",
        "- user_id\n",
        "- 성장호르몬_투약: 18세 이전에 청소년에게 성장호르몬 투약을 했는지 안했는지\n",
        "- 키\n"
      ],
      "metadata": {
        "id": "afXxd7fetr0o"
      }
    },
    {
      "cell_type": "markdown",
      "source": [
        "# **Part 1. 가설 검정**\n",
        "\n",
        "**가설 검정**이란 관심 있는 특정 모집단의 특성에 대한 가설을 세우고,\n",
        "이 가설을 샘플 데이터를 사용하여 검토하는 추론의 과정을 일컫습니다. <br> \n",
        "여러분들은 가설을 어떻게 세우고 가설검정으로부터 나온 결과를 어떻게 평가하는지 배워보도록 합니다. \n",
        "\n",
        "<br>\n",
        "\n",
        "> 💡 가설검정에 대해 배우기전, 아래의 테이블에서 용어에 익숙해지도록 합니다.\n",
        "\n",
        "\n",
        "<img src = 'https://i.imgur.com/EoqEGI3.png' width=750>\n",
        "\n"
      ],
      "metadata": {
        "id": "IzgaLJt9SOTh"
      }
    },
    {
      "cell_type": "markdown",
      "source": [
        "## **1-1. 귀무가설와 대립가설**\n",
        "\n",
        "> ⚠️ <br>\n",
        "**귀무가설**과 **대립가설**은 서로 대립해야 하고 겹치는 부분이 있어서는 안됩니다. \n",
        "\n",
        "**`가설검증이란`**, 우리가 알고자 하는 질문을 **두 개의 대립되는 가설**로 세우고 <br> \n",
        "이것의 참과 거짓을 **`수집한 데이터를 통해 판단`**하는 것입니다.  \n",
        "\n",
        "  1. **귀무가설** \n",
        "    - 데이터를 수집하기 전 사실이라고 믿는 가설 \n",
        "    - 수학적으로 **`=`** 사인을 포함합니다. \n",
        "    - **`=, =>, =<`**\n",
        "\n",
        "  2.**대립가설** \n",
        "    - 귀무가설과 대립되는 가설로 우리가 사실이라고 증명하고자 하는 가설\n",
        "    - 수학적으로 **`=`** 사인을 포함하지 않습니다. \n",
        "    - **`>, <, !=`**\n",
        " \n",
        "<br>\n",
        "\n",
        "> **💡 가설 세우는 규칙** <br>\n",
        "아래는 귀무가설과 대립가설을 세울시 지켜야하는 사항을 정리한 것으로, 이를 잘 숙지하고 계시기 바랍니다.\n",
        "  - 귀무가설은 어떠한 데이터를 수집하기 전 사실입니다.\n",
        "  - 귀무가설은 효과가 없거나 두 그룹이 같다고 말합니다.\n",
        "  - 귀무가설과 대립가설은 competing, non-overlapping 해야 합니다.\n",
        "  - 대립가설은 우리가 사실이라고 주장하고자 하는 것입니다.\n",
        "  - 귀무가설은 **`equal sign (=)`** 을 포함하고 있는 아래와 같은 부호를 사용합니다. \n",
        "    - =, <=, >= \n",
        "  - 대립가설은 **`equal sign (=)`** 을 포함하지 않는 아래와 같은 부호를 사용합니다. \n",
        "    - !=, >, <"
      ],
      "metadata": {
        "id": "nbHeJFLLs-qz"
      }
    },
    {
      "cell_type": "markdown",
      "source": [
        "## **1-2. 1종 오류 vs 2종 오류**\n",
        "\n",
        "우선, 위의 재판에서 죄의 유무를 검사가 판단하는 데 있어서 어떠한 종류의 결과가 존재하는지 확인해보도록 합시다. \n",
        "\n",
        "다음과 같이 네 개의 결과가 존재합니다.\n",
        "\n",
        "\n",
        "|| Guilty Decision|Innocent Decision|\n",
        "|---|---|---|\n",
        "|**Truly Innocent**|Truly Innocent & Guilty Decision|Truly Innocent & Innocent Decision| \n",
        "|**Truly Guilty**|Truly Guilty & Guilty Decision|Truly Guilty & Innocent Decision|\n",
        "\n",
        "- **`Truly Guilty & Guilty Decision`**\n",
        "  - 실제로 죄가 있고 검사가 유죄를 선고한 경우\n",
        "- **`Truly Innocent & Guilty Decision`**\n",
        "  - 실제로 죄가 없고 검사가 유죄를 선고한 경우\n",
        "- **`Truly Guilty & Innocent Decision`**\n",
        "  - 실제로 죄가 있고 검사가 무죄를 선고한 경우\n",
        "- **`Truly Innocent & Innocent Decision`**\n",
        "  - 실제로 죄가 없고 검사가 무죄를 선고한 경우\n",
        "<br>\n",
        "\n",
        "네 개의 결과 중 2개는 오류를 범하지 않은 경우이며, 2개는 오류를 초래한 경우입니다. \n",
        "오류를 초래한 두 가지 경우를 우리는 제1종 오류와 제2종 오류라 칭합니다. 그리고 어느 오류가 상황에 더 심각한 결과를 초래하는지 확인하도록 합니다. \n",
        "\n",
        "<br>\n",
        "\n",
        "<p align=\"center\">\n",
        "<img width='500' src='https://i.imgur.com/IKiWN5J.png'>\n",
        "\n",
        "\n",
        "- **제1종 오류**\n",
        "  - 귀무 가설이 참인데 기각한 경우로, 위의 예로는 남자는 죄가 없는데 죄가 있다고 잘못 판단한 경우입니다. \n",
        "  - 이는 alpha로도 지칭하며 유의수준 이라고도 합니다. 이는 귀무가설이 참인데도 불구하고 기각할 확률을 의미하며 이 값이 0.05보다 작으면 귀무 가설을 잘못 기각할 가능성이 5% 미만이며, 그만큼 잘못 기각할 가능성이 낮음을 인정하고 우리는 귀무가설을 기각할 충분한 증거를 확보했다는 의미입니다.\n",
        "  - False positive 라고도 합니다.\n",
        "\n",
        "- **제2종 오류**\n",
        "  - 귀무 가설이 거짓인데 기각하지 않은 경우로, 위의 예로는 남자는 죄가 있는데 죄가 없다고 잘못 판단한 경우입니다. \n",
        "  - 이는 beta로도 지칭 됩니다.\n",
        "  - False negative 라고도 합니다.\n",
        "\n",
        "> ⚠️ <br>\n",
        "사람의 유죄를 판결하는 재판의 경우 제1종 오류와 제2종 오류 중 어떠한 에러가 더 위험한 에러일까요?"
      ],
      "metadata": {
        "id": "LWuTx5Aqgury"
      }
    },
    {
      "cell_type": "markdown",
      "source": [
        "## **1-3. 가설 세우기**\n",
        "\n",
        "다양한 시나리오에서 옳은 가설을 세우는 것은 중요합니다. <br>\n",
        "아래의 시나리오에서 우리는 **`1-2-b`**와 **`1-2-c`** 두 가설의\n",
        "통계적 유의성을 **Part 2** 에서 확인해 보도록 합니다. \n",
        "\n",
        "<br>\n",
        "\n",
        "**`1-2-a.`** 만약 여러분들이 성장호르몬약을 섭취한 사람들의 평균키가 섭취하지 않은 사람들의 평균키와 다른지를 판단하고자 한다면, 아래와 같이 귀무가설과 대립가설을  세우며 이를 단측 검정이라 합니다.\n",
        "\n",
        "$$H_0: \\mu_{yes} = \\mu_{no} $$\n",
        "\n",
        "\n",
        "$$H_1: \\mu_{yes} \\neq \\mu_{no} $$\n",
        "\n",
        "\n",
        "**`1-2-b.`** 만약 여러분들이 성장호르몬약을 섭취한 사람들의 평균키가 섭취하지 않은 사람들의 평균키보다 큰지를 판단하고자 한다면, 아래와 같이 가설을 세우며 이를 단측 검정이라 합니다. \n",
        "\n",
        "$$H_0: \\mu_{yes} \\leq \\mu_{no} $$\n",
        "\n",
        "\n",
        "$$H_1: \\mu_{yes} > \\mu_{no} $$\n",
        "\n",
        "**`1-2-c.`** 만약 여러분들이 성장 호르몬약을 섭취한 사람들의 평균키가 172.5cm 보다 큰지를 판단하고자 한다면, 아래와 같이 가설을 세우며 이를 단측 검정이라 합니다.\n",
        "\n",
        "$$H_0: \\mu_{yes} \\leq 172.5cm $$\n",
        "\n",
        "\n",
        "$$H_1: \\mu_{yes} > 172.5cm $$\n",
        "\n",
        "> ⚠️ <br>\n",
        "> $\\mu_{yes}$과 $\\mu_{no}$는 **성장호르몬약을 섭취한 사람들의 모수**와 **그렇지 않은 사람들의 모수**를 나타냅니다. <br>\n",
        "> 가설검정은 우리에게 **모집단의 모수에 관한 정보**를 주는 것이지 샘플 데이터의 통계치에 대한 정보를 주는 것이 아닙니다."
      ],
      "metadata": {
        "id": "QWikLheuKV7I"
      }
    },
    {
      "cell_type": "markdown",
      "source": [
        "# **Part 2. 검정 방법론**\n",
        "\n",
        "대안가설과 대립가설을 세운 뒤, 우리는 데이터를 이용하여 어떤 가설을 채택할지 결정하게 되는데 <br>\n",
        "이에는 **두 가지 방법**이 있습니다.\n",
        "\n",
        "<br>\n",
        "\n",
        "  1. **신뢰구간 확인**\n",
        "      - 우리는 샘플 데이터로 **`평균의 표본 분포 (sampling distribution of mean values)`** 를 시뮬레이트 한 뒤, 이를 **모집단의 분포**라고 가정합니다. 그리고 이 분포에서 **`95% 신뢰구간`**을 확인한 뒤, 우리의 귀무가설이 이 표본 분포 어디에 해당하는지 확인하여 귀무가설을 채택할지 기각할지를 결정합니다. <br>\n",
        " > **1)** 우리가 가지고 있는 샘플 데이터를 **`모집단(population)`**이라 가정합니다. <br>\n",
        "   **2)** 이 모집단에서 만번 랜덤으로 샘플을 꺼내 평균을 계산합니다. <br>\n",
        "   **3)** 이 평균값들을 이용해 **`평균의 표본 분포`**를 시뮬레이트합니다.  <br>\n",
        "   **4)** **`95% 신뢰구간`**은 모집단의 모수를 포함할 확률이 95%인 구간으로 우리가 시뮬레이트 한 분포에서 어디어 해당하는지 확인합니다. <br> \n",
        "   **3)** 우리의 귀무가설이 어디에 해당하는지 확인한 뒤 ***어떤 가설을 채택할지 결정합니다.***\n",
        "\n",
        "  2. **P-value 확인**\n",
        "      - **`P-value란`**, 귀무가설이 맞다는 전제 하에, **`통계값`**이 **`실제로 관측된 값 (샘플의 통계치)`** 이상일 확률을 의미합니다. 우리는 우리가 세운 귀무 가설이 사실임을 가정하고, 귀무 가설이 대립 가설과 가장 근접하게 있는 값으로 귀무 분포를 시뮬레이트한 뒤 (예를들어, 위의 가설에서는 `172.5` 값이 귀무 가설이 대립 가설과 가장 근접하게 있는 값입니다), 샘플 데이터에서의 평균값이 이 분포 어디에 존재하는지를 확인합니다. 이 평균값보다 큰 부분을 확인함으로서 ***어떤 가설을 채택할지 결정합니다.***\n",
        "> **1)** 우리가 가지고 있는 샘플 데이터로 **`평균의 표본 분포를 시뮬레이트`** 한뒤, 분포의 **표준 편차**를 변수에 저장합니다. <br>\n",
        "**2)** 귀무가설과 대립가설의 가장 근접한 값과 변수에 저장한 표준 편차를 이용하여 **`귀무 분포를 시뮬레이트`** 합니다. 이 때 우리는 **정규분포**를 이용하며 ([정규분포 공식문서](https://numpy.org/doc/stable/reference/random/generated/numpy.random.normal.html)) 그 이유는 중심극한정리에 의해 수많은 샘플 추출에 의해 분포는 정규분포를 따르게 되기 때문입니다. <br>\n",
        "**3)** 우리가 시뮬레이트한 귀무 분포에 샘플 데이터의 평균값이 어디에 있는지 확인합니다. <br>\n",
        "**4)** 귀무 분포에 샘플 데이터의 평균값보다 큰 면적을 확인합니다. 이 면적이 0.05 보다 작으면 귀무가설이 사실인데 기각했을때의 오류가 5%보다 작음을 의미합니다.\n",
        "\n",
        "\n"
      ],
      "metadata": {
        "id": "T9MzPNWBCwMA"
      }
    },
    {
      "cell_type": "code",
      "source": [
        "from google.colab import files\n",
        "uploaded = files.upload()"
      ],
      "metadata": {
        "colab": {
          "resources": {
            "http://localhost:8080/nbextensions/google.colab/files.js": {
              "data": "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",
              "ok": true,
              "headers": [
                [
                  "content-type",
                  "application/javascript"
                ]
              ],
              "status": 200,
              "status_text": ""
            }
          },
          "base_uri": "https://localhost:8080/",
          "height": 73
        },
        "id": "V6eDf9szVrQJ",
        "outputId": "34598431-0e98-40e4-b7cf-03c75e5beb46"
      },
      "execution_count": null,
      "outputs": [
        {
          "output_type": "display_data",
          "data": {
            "text/plain": [
              "<IPython.core.display.HTML object>"
            ],
            "text/html": [
              "\n",
              "     <input type=\"file\" id=\"files-9aa87b2d-45e8-4b2a-9eca-34f6dcd06323\" name=\"files[]\" multiple disabled\n",
              "        style=\"border:none\" />\n",
              "     <output id=\"result-9aa87b2d-45e8-4b2a-9eca-34f6dcd06323\">\n",
              "      Upload widget is only available when the cell has been executed in the\n",
              "      current browser session. Please rerun this cell to enable.\n",
              "      </output>\n",
              "      <script src=\"/nbextensions/google.colab/files.js\"></script> "
            ]
          },
          "metadata": {}
        },
        {
          "output_type": "stream",
          "name": "stdout",
          "text": [
            "Saving 성장호르몬.csv to 성장호르몬.csv\n"
          ]
        }
      ]
    },
    {
      "cell_type": "code",
      "source": [
        "import pandas as pd\n",
        "import numpy as np\n",
        "import matplotlib.pyplot as plt\n",
        "\n",
        "drug = pd.read_csv('성장호르몬.csv')"
      ],
      "metadata": {
        "id": "E73Batr6StBF"
      },
      "execution_count": null,
      "outputs": []
    },
    {
      "cell_type": "code",
      "source": [
        "drug.head()"
      ],
      "metadata": {
        "colab": {
          "base_uri": "https://localhost:8080/",
          "height": 206
        },
        "id": "HNlCuN-Gp2tB",
        "outputId": "9656c171-e7ea-4342-fa98-6cfd37297961"
      },
      "execution_count": null,
      "outputs": [
        {
          "output_type": "execute_result",
          "data": {
            "text/plain": [
              "   user_id    나이  성장호르몬_투약       키\n",
              "0     4509   <21     False  163.93\n",
              "1     1864  >=21      True  167.19\n",
              "2     2060   <21     False  181.15\n",
              "3     7875  >=21      True  174.17\n",
              "4     6254   <21      True  162.61"
            ],
            "text/html": [
              "\n",
              "  <div id=\"df-b67f6ee1-4de6-4ca0-8141-51c070c867df\">\n",
              "    <div class=\"colab-df-container\">\n",
              "      <div>\n",
              "<style scoped>\n",
              "    .dataframe tbody tr th:only-of-type {\n",
              "        vertical-align: middle;\n",
              "    }\n",
              "\n",
              "    .dataframe tbody tr th {\n",
              "        vertical-align: top;\n",
              "    }\n",
              "\n",
              "    .dataframe thead th {\n",
              "        text-align: right;\n",
              "    }\n",
              "</style>\n",
              "<table border=\"1\" class=\"dataframe\">\n",
              "  <thead>\n",
              "    <tr style=\"text-align: right;\">\n",
              "      <th></th>\n",
              "      <th>user_id</th>\n",
              "      <th>나이</th>\n",
              "      <th>성장호르몬_투약</th>\n",
              "      <th>키</th>\n",
              "    </tr>\n",
              "  </thead>\n",
              "  <tbody>\n",
              "    <tr>\n",
              "      <th>0</th>\n",
              "      <td>4509</td>\n",
              "      <td>&lt;21</td>\n",
              "      <td>False</td>\n",
              "      <td>163.93</td>\n",
              "    </tr>\n",
              "    <tr>\n",
              "      <th>1</th>\n",
              "      <td>1864</td>\n",
              "      <td>&gt;=21</td>\n",
              "      <td>True</td>\n",
              "      <td>167.19</td>\n",
              "    </tr>\n",
              "    <tr>\n",
              "      <th>2</th>\n",
              "      <td>2060</td>\n",
              "      <td>&lt;21</td>\n",
              "      <td>False</td>\n",
              "      <td>181.15</td>\n",
              "    </tr>\n",
              "    <tr>\n",
              "      <th>3</th>\n",
              "      <td>7875</td>\n",
              "      <td>&gt;=21</td>\n",
              "      <td>True</td>\n",
              "      <td>174.17</td>\n",
              "    </tr>\n",
              "    <tr>\n",
              "      <th>4</th>\n",
              "      <td>6254</td>\n",
              "      <td>&lt;21</td>\n",
              "      <td>True</td>\n",
              "      <td>162.61</td>\n",
              "    </tr>\n",
              "  </tbody>\n",
              "</table>\n",
              "</div>\n",
              "      <button class=\"colab-df-convert\" onclick=\"convertToInteractive('df-b67f6ee1-4de6-4ca0-8141-51c070c867df')\"\n",
              "              title=\"Convert this dataframe to an interactive table.\"\n",
              "              style=\"display:none;\">\n",
              "        \n",
              "  <svg xmlns=\"http://www.w3.org/2000/svg\" height=\"24px\"viewBox=\"0 0 24 24\"\n",
              "       width=\"24px\">\n",
              "    <path d=\"M0 0h24v24H0V0z\" fill=\"none\"/>\n",
              "    <path d=\"M18.56 5.44l.94 2.06.94-2.06 2.06-.94-2.06-.94-.94-2.06-.94 2.06-2.06.94zm-11 1L8.5 8.5l.94-2.06 2.06-.94-2.06-.94L8.5 2.5l-.94 2.06-2.06.94zm10 10l.94 2.06.94-2.06 2.06-.94-2.06-.94-.94-2.06-.94 2.06-2.06.94z\"/><path d=\"M17.41 7.96l-1.37-1.37c-.4-.4-.92-.59-1.43-.59-.52 0-1.04.2-1.43.59L10.3 9.45l-7.72 7.72c-.78.78-.78 2.05 0 2.83L4 21.41c.39.39.9.59 1.41.59.51 0 1.02-.2 1.41-.59l7.78-7.78 2.81-2.81c.8-.78.8-2.07 0-2.86zM5.41 20L4 18.59l7.72-7.72 1.47 1.35L5.41 20z\"/>\n",
              "  </svg>\n",
              "      </button>\n",
              "      \n",
              "  <style>\n",
              "    .colab-df-container {\n",
              "      display:flex;\n",
              "      flex-wrap:wrap;\n",
              "      gap: 12px;\n",
              "    }\n",
              "\n",
              "    .colab-df-convert {\n",
              "      background-color: #E8F0FE;\n",
              "      border: none;\n",
              "      border-radius: 50%;\n",
              "      cursor: pointer;\n",
              "      display: none;\n",
              "      fill: #1967D2;\n",
              "      height: 32px;\n",
              "      padding: 0 0 0 0;\n",
              "      width: 32px;\n",
              "    }\n",
              "\n",
              "    .colab-df-convert:hover {\n",
              "      background-color: #E2EBFA;\n",
              "      box-shadow: 0px 1px 2px rgba(60, 64, 67, 0.3), 0px 1px 3px 1px rgba(60, 64, 67, 0.15);\n",
              "      fill: #174EA6;\n",
              "    }\n",
              "\n",
              "    [theme=dark] .colab-df-convert {\n",
              "      background-color: #3B4455;\n",
              "      fill: #D2E3FC;\n",
              "    }\n",
              "\n",
              "    [theme=dark] .colab-df-convert:hover {\n",
              "      background-color: #434B5C;\n",
              "      box-shadow: 0px 1px 3px 1px rgba(0, 0, 0, 0.15);\n",
              "      filter: drop-shadow(0px 1px 2px rgba(0, 0, 0, 0.3));\n",
              "      fill: #FFFFFF;\n",
              "    }\n",
              "  </style>\n",
              "\n",
              "      <script>\n",
              "        const buttonEl =\n",
              "          document.querySelector('#df-b67f6ee1-4de6-4ca0-8141-51c070c867df button.colab-df-convert');\n",
              "        buttonEl.style.display =\n",
              "          google.colab.kernel.accessAllowed ? 'block' : 'none';\n",
              "\n",
              "        async function convertToInteractive(key) {\n",
              "          const element = document.querySelector('#df-b67f6ee1-4de6-4ca0-8141-51c070c867df');\n",
              "          const dataTable =\n",
              "            await google.colab.kernel.invokeFunction('convertToInteractive',\n",
              "                                                     [key], {});\n",
              "          if (!dataTable) return;\n",
              "\n",
              "          const docLinkHtml = 'Like what you see? Visit the ' +\n",
              "            '<a target=\"_blank\" href=https://colab.research.google.com/notebooks/data_table.ipynb>data table notebook</a>'\n",
              "            + ' to learn more about interactive tables.';\n",
              "          element.innerHTML = '';\n",
              "          dataTable['output_type'] = 'display_data';\n",
              "          await google.colab.output.renderOutput(dataTable, element);\n",
              "          const docLink = document.createElement('div');\n",
              "          docLink.innerHTML = docLinkHtml;\n",
              "          element.appendChild(docLink);\n",
              "        }\n",
              "      </script>\n",
              "    </div>\n",
              "  </div>\n",
              "  "
            ]
          },
          "metadata": {},
          "execution_count": 6
        }
      ]
    },
    {
      "cell_type": "markdown",
      "source": [
        "## **2-1. 단측 검정**\n",
        "\n",
        "우선, 우리는 단측 검정인 **`1-2-c.`**부터 확인하도록 합니다. \n",
        "\n",
        "성장 호르몬약을 섭취한 사람들의 평균키가 172.5cm 보다 크고 그렇지 않은 사람들의 평균키는 172.5cm 보다 작다를 판단하고자 하며, 우리는 아래와 같이 가설을 세웁니다.\n",
        "\n",
        "$$H_0: \\mu_{yes} \\geq 172.5cm $$\n",
        "\n",
        "\n",
        "$$H_1: \\mu_{yes} < 172.5cm $$\n",
        "\n",
        "\n",
        "> ⚠️ <br>\n",
        "가설검증은 **`모집단의 모수`**를 테스트 합니다. 그러므로 $\\mu_{yes}$는 **모든 성장호르몬을 주입한 사람들의 평균**을 말합니다. "
      ],
      "metadata": {
        "id": "xVH7llCmD8D-"
      }
    },
    {
      "cell_type": "markdown",
      "source": [
        "### **a. 신뢰구간 확인**\n"
      ],
      "metadata": {
        "id": "x-WisFN-DoIb"
      }
    },
    {
      "cell_type": "code",
      "source": [
        "import random\n",
        "random.seed(10)\n",
        "\n",
        "means = []\n",
        "\n",
        "for _ in range(10000):\n",
        "  bootsample= drug[drug['성장호르몬_투약'] == True].sample(150, replace=True)\n",
        "  means.append(bootsample.키.mean())"
      ],
      "metadata": {
        "id": "bC8-xTO_JmHP"
      },
      "execution_count": null,
      "outputs": []
    },
    {
      "cell_type": "code",
      "source": [
        "low, upper = np.percentile(means, 2.5),np.percentile(means, 97.5) \n",
        "print(low, upper)"
      ],
      "metadata": {
        "colab": {
          "base_uri": "https://localhost:8080/"
        },
        "id": "ZBvIoDeVVDPm",
        "outputId": "f0c2218f-964b-459c-e3ed-cb9637957dea"
      },
      "execution_count": null,
      "outputs": [
        {
          "output_type": "stream",
          "name": "stdout",
          "text": [
            "172.66610166666666 174.80976833333338\n"
          ]
        }
      ]
    },
    {
      "cell_type": "code",
      "source": [
        "plt.figure(figsize=(8,5))\n",
        "plt.hist(means, alpha=0.5)\n",
        "plt.axvline(x=low, color='r')\n",
        "plt.axvline(x=upper, color='r', label='95% Confidence \\n Interval')\n",
        "plt.axvline(x=172.5, color='g', label = 'Null Hypothesis')\n",
        "plt.legend(fontsize=10);"
      ],
      "metadata": {
        "colab": {
          "base_uri": "https://localhost:8080/",
          "height": 320
        },
        "id": "4bB5EEqHKXGD",
        "outputId": "b007a750-1c0a-4a0c-b303-3ab88bf0fd99"
      },
      "execution_count": null,
      "outputs": [
        {
          "output_type": "display_data",
          "data": {
            "text/plain": [
              "<Figure size 576x360 with 1 Axes>"
            ],
            "image/png": "[encoded data removed]"
          },
          "metadata": {
            "needs_background": "light"
          }
        }
      ]
    },
    {
      "cell_type": "markdown",
      "source": [
        "> **🔎 해설**  \n",
        "- 위의 분포를 통해 성장호르몬을 주입한 사람들의 모집단의 모수가 `172.6cm 에서 174.8cm 사이`에 있을 **`확률은 95% 임`**을 확인할 수 있습니다. \n",
        "- 그러고 우리가 확인하고자 하는 귀무가설의 최상위 값 172.5cm는 95% 신뢰구간의 lower limit 보다 작은 것을 확인할수 있습니다. \n",
        "- 그러므로 우리는 우리의 귀무가설인 모수가 172.65cm 보다 작다 라는 ***귀무가설을 기각하고 대안가설을 채택합니다.***\n",
        "\n",
        "\n"
      ],
      "metadata": {
        "id": "pqe6AKUwJC8e"
      }
    },
    {
      "cell_type": "markdown",
      "source": [
        "### **b. p-value 확인**\n",
        "\n",
        "\n"
      ],
      "metadata": {
        "id": "OoZZJ4RaedD4"
      }
    },
    {
      "cell_type": "code",
      "source": [
        "random.seed(10)\n",
        "\n",
        "null_means = []\n",
        "\n",
        "for _ in range(1000):\n",
        "  sample = drug[drug.성장호르몬_투약 == True].sample(150, replace=True)\n",
        "  null_means.append(sample.키.mean())"
      ],
      "metadata": {
        "id": "W2S6o5PfWF21"
      },
      "execution_count": null,
      "outputs": []
    },
    {
      "cell_type": "code",
      "source": [
        "# 샘플 데이터에서 성장호르몬약을 투입한 사람들의 평균키 \n",
        "sample_mean = drug[drug.성장호르몬_투약 == True].키.mean()\n",
        "print(sample_mean)"
      ],
      "metadata": {
        "colab": {
          "base_uri": "https://localhost:8080/"
        },
        "id": "Ah4hcDKkX8wl",
        "outputId": "96f96290-6a43-4701-ac04-8fb09a7e6301"
      },
      "execution_count": null,
      "outputs": [
        {
          "output_type": "stream",
          "name": "stdout",
          "text": [
            "173.73649942987439\n"
          ]
        }
      ]
    },
    {
      "cell_type": "code",
      "source": [
        "plt.figure(figsize=(8,5))\n",
        "null_vals = np.random.normal(172.5, np.std(null_means), 10000) \n",
        "plt.hist(null_vals, alpha=0.5)\n",
        "plt.axvline(sample_mean, color='r', label='Sample Mean')\n",
        "plt.legend(fontsize=13);"
      ],
      "metadata": {
        "colab": {
          "base_uri": "https://localhost:8080/",
          "height": 320
        },
        "id": "exL4AtyCrl2H",
        "outputId": "34f54053-5881-4b81-8fbb-142fc89f1de0"
      },
      "execution_count": null,
      "outputs": [
        {
          "output_type": "display_data",
          "data": {
            "text/plain": [
              "<Figure size 576x360 with 1 Axes>"
            ],
            "image/png": "[encoded data removed]"
          },
          "metadata": {
            "needs_background": "light"
          }
        }
      ]
    },
    {
      "cell_type": "markdown",
      "source": [
        "> **💡 Tip** <br>\n",
        "위의 null_vals가 **`귀무 분포`**를 말합니다. `np.std(null_means)`를 설정한 이유는 이 귀무 분포를 시뮬레이트 할때, 표본 평균 분포의 모양을 그대로 가져와 시뮬레이트 하기 위함 입니다. "
      ],
      "metadata": {
        "id": "t00xe30iiZt3"
      }
    },
    {
      "cell_type": "code",
      "source": [
        "# p-value 확인\n",
        "(null_vals > sample_mean).mean()"
      ],
      "metadata": {
        "colab": {
          "base_uri": "https://localhost:8080/"
        },
        "id": "C0GqOLFHRXav",
        "outputId": "face5ddc-565f-4086-e844-350e1c6ee78b"
      },
      "execution_count": null,
      "outputs": [
        {
          "output_type": "execute_result",
          "data": {
            "text/plain": [
              "0.0141"
            ]
          },
          "metadata": {},
          "execution_count": 14
        }
      ]
    },
    {
      "cell_type": "markdown",
      "source": [
        "> **🔎 해설**   \n",
        "- `샘플 데이터의 평균값`은 귀무 분포의 끝에 위치하는 것을 알 수 있습니다. 그리고 **`평균값보다 큰 면적`**은 0.0141으로 아주 작은 것을 알 수 있습니다.\n",
        "- 이 면적이 바로 **`p-value`**이고, 아래 그림은 귀무 분포에서 p-value가 어디를 나타내는지 보여줍니다. 이로부터 위에서 우리가 시뮬레이트한 분포와 p-value가 일맥상통 하는 것을 알 수 있습니다. \n",
        "- p-value가 0.05 보다 작으면 귀무 가석을 기각하고 대립 가설을 채택하게 되는데 우리의 경우 0.0141으로 우리는 ***안전하게 귀무 가설을 기각합니다.***\n",
        "\n",
        "> <img width='500' src='https://i.imgur.com/mN1fTLq.png'>"
      ],
      "metadata": {
        "id": "7l0znvMLmkHN"
      }
    },
    {
      "cell_type": "markdown",
      "source": [
        "## **2-2. 양측 검정**\n",
        "\n",
        "다음으로 양측 검정의 하나인 **`1-2-b.`**를 확인해 보도록 합니다.\n",
        "\n",
        "만약 여러분들이 성장 호르몬약을 섭취한 사람들의 평균키가 섭취하지 않은 사람들의 평균키보다 큰지를 판단하고자 한다면, 아래와 같이 가설을 세웁니다.\n",
        "\n",
        "$$H_0: \\mu_{yes} \\leq \\mu_{no} $$\n",
        "\n",
        "\n",
        "$$H_1: \\mu_{yes} > \\mu_{no} $$"
      ],
      "metadata": {
        "id": "2ecMnmpSnIC8"
      }
    },
    {
      "cell_type": "markdown",
      "source": [
        "### **a. 신뢰구간 확인**"
      ],
      "metadata": {
        "id": "TlW6Rl0RELNW"
      }
    },
    {
      "cell_type": "code",
      "source": [
        "random.seed(10)\n",
        "\n",
        "drug_means, nodrug_means, diff_means = [], [], []\n",
        "\n",
        "for _ in range(1000):\n",
        "  sample = drug.sample(drug.shape[0], replace=True)\n",
        "  \n",
        "  drug_mean = sample[sample.성장호르몬_투약 == True].키.mean()\n",
        "  drug_means.append(drug_mean)\n",
        "\n",
        "  nodrug_mean = sample[sample.성장호르몬_투약 == False].키.mean()\n",
        "  nodrug_means.append(nodrug_mean)\n",
        "\n",
        "  diff_means.append(drug_mean - nodrug_mean)\n",
        "  "
      ],
      "metadata": {
        "id": "cuKmtOLU4kLj"
      },
      "execution_count": null,
      "outputs": []
    },
    {
      "cell_type": "code",
      "source": [
        "plt.figure(figsize=(8,5))\n",
        "plt.hist(drug_means, alpha = 0.5, label='growth hormone take')\n",
        "plt.hist(nodrug_means, alpha = 0.5, label = 'growth hormone no take')\n",
        "plt.legend(loc=9, fontsize=13)\n",
        "plt.show()"
      ],
      "metadata": {
        "colab": {
          "base_uri": "https://localhost:8080/",
          "height": 320
        },
        "id": "9q_uOT9-potO",
        "outputId": "aa3b7563-ed84-4801-c6e2-10f4f86ed5cb"
      },
      "execution_count": null,
      "outputs": [
        {
          "output_type": "display_data",
          "data": {
            "text/plain": [
              "<Figure size 576x360 with 1 Axes>"
            ],
            "image/png": "[encoded data removed]"
          },
          "metadata": {
            "needs_background": "light"
          }
        }
      ]
    },
    {
      "cell_type": "markdown",
      "source": [
        "> **🔎 해설**  \n",
        "- 왼쪽의 주황색 분포는 성장호르몬을 섭취하지 않은 사람들의 **`평균키 표본 분포 (sampling distribution of mean values)`** 입니다. \n",
        "- 오른쪽의 파란색 분포는 성장호르몬을 섭취한 사람들의 **`평균키 표본 분포`** 입니다.\n",
        "- 이 두 분포는 엄연히 다른 차이를 보여주고 있고, ***성장호르몬을 섭취한 사람들의 평균키는 그렇지 않은 사람들의 평균키보다 월등히 높은 것을 알 수 있습니다.***\n",
        "- 이를 통해 성장호르몬을 섭취한 사람들의 평균키는 그렇지 않은 사람들의 평균키보다 작거나 같다는 귀무 가설을 기각하고 ***대립 가설을 채택하도록 합니다.***\n",
        "- 아래는 두 표본 분포를 따로 보는 것이 아닌, **`두 분포의 차이`**를 시각화하여 확인해보도록 합니다."
      ],
      "metadata": {
        "id": "qjJDuChye8qj"
      }
    },
    {
      "cell_type": "code",
      "source": [
        "plt.figure(figsize=(8,5))\n",
        "plt.hist(diff_means, alpha=0.5, label = 'Difference in Means')\n",
        "plt.axvline(0, c='r')\n",
        "plt.legend(loc=9, fontsize=13);"
      ],
      "metadata": {
        "colab": {
          "base_uri": "https://localhost:8080/",
          "height": 320
        },
        "id": "fTFiEkdTrEAq",
        "outputId": "b82b837e-1914-45ff-830d-04555ddb9102"
      },
      "execution_count": null,
      "outputs": [
        {
          "output_type": "display_data",
          "data": {
            "text/plain": [
              "<Figure size 576x360 with 1 Axes>"
            ],
            "image/png": "[encoded data removed]"
          },
          "metadata": {
            "needs_background": "light"
          }
        }
      ]
    },
    {
      "cell_type": "markdown",
      "source": [
        "> **🔎 해설**  \n",
        "- 위의 분포는 **`성장호르몬을 섭취한 성인의 평균키와 그렇지 않은 성인의 평균키 차이에 대한 표본 분포`** 입니다. 가설을 수학적으로 나타내면 아래와 같이 나타낼 수 있습니다.\n",
        "$$H_0: \\mu_{yes} - \\mu_{no} \\leq 0 $$\n",
        "\n",
        "\n",
        "$$H_1: \\mu_{yes} - \\mu_{no} > 0 $$\n",
        "> - 두 평균키의 차이를 나타내는 분포는 **`0을 나타내는 빨간선 보다 훨씬 오른쪽에 있음`**을 알 수 있고, 그러므로 우리는 두 평균키의 차이가 0보다 작거나 같다라는 귀무가설을 기각하고 ***대립 가설을 채택하게 됩니다.***   "
      ],
      "metadata": {
        "id": "tWk71g6rgYL4"
      }
    },
    {
      "cell_type": "markdown",
      "source": [
        "### **b. p-value 확인**"
      ],
      "metadata": {
        "id": "jLRJ2FPtfMSz"
      }
    },
    {
      "cell_type": "code",
      "source": [
        "# 성장호르몬을 투입한 사람의 키와 그렇지 않은 사람의 키 차이 확인\n",
        "sample_diff = drug[drug.성장호르몬_투약 == True].키.mean() - drug[drug.성장호르몬_투약 == False].키.mean()\n",
        "sample_diff"
      ],
      "metadata": {
        "id": "UXldXzISplRg",
        "colab": {
          "base_uri": "https://localhost:8080/"
        },
        "outputId": "837d3ee3-7476-48f7-913e-a349b9ef93e1"
      },
      "execution_count": null,
      "outputs": [
        {
          "output_type": "execute_result",
          "data": {
            "text/plain": [
              "4.97022893807079"
            ]
          },
          "metadata": {},
          "execution_count": 19
        }
      ]
    },
    {
      "cell_type": "code",
      "source": [
        "plt.figure(figsize=(8,5))\n",
        "null_vals = np.random.normal(0, np.std(diff_means), 1000) # diff_means는 두 분포의 차이의 표본 분포입니다.\n",
        "plt.hist(null_vals, alpha=0.5, label='null hypothesis')\n",
        "plt.axvline(sample_diff, color='r', label='statistics')\n",
        "plt.legend(loc=9, fontsize=13)\n",
        "plt.show()"
      ],
      "metadata": {
        "colab": {
          "base_uri": "https://localhost:8080/",
          "height": 320
        },
        "id": "xWbuK7xzrrkD",
        "outputId": "68d27f09-068c-4b27-94f5-e14246080c56"
      },
      "execution_count": null,
      "outputs": [
        {
          "output_type": "display_data",
          "data": {
            "text/plain": [
              "<Figure size 576x360 with 1 Axes>"
            ],
            "image/png": "[encoded data removed]"
          },
          "metadata": {
            "needs_background": "light"
          }
        }
      ]
    },
    {
      "cell_type": "markdown",
      "source": [
        "> **🔎 해설**  \n",
        "- 우리는 귀무 분포와 대립 분포의 가장 **`근접한 값인 0`**과 두 분포의 차이의 **`표준편차`**를 이용하여 **귀무 분포를 만듭니다.**\n",
        "- 샘플 데이터에서 성장호르몬을 섭취한 사람들의 평균키와 그렇지 않은 사람들의 **`평균키 차이`**를 계산하고, 귀무 분포에서 이 평균키 차이가 어디에 위치하는지 확인합니다.\n",
        "- 우리의 경우 이 평균키 차이가 귀무 분포의 아주 먼 오른쪽에 존재함을 알 수 있습니다. 이는 **`평군키 차이를 기준으로 귀무 분포 오른쪽으로 어떠한 면적이 존재하지 않음을 알 수 있습니다.`** \n",
        "- 이는 p-value가 0임을 말하고 이때 우리는 안전하게 ***귀무 가설을 기각하고 대립 가설을 채택하도록 합니다.***"
      ],
      "metadata": {
        "id": "J04cjaw8jRnD"
      }
    },
    {
      "cell_type": "markdown",
      "source": [
        "# **Part 3. 결론**"
      ],
      "metadata": {
        "id": "G2vjGkBJEeB0"
      }
    },
    {
      "cell_type": "markdown",
      "source": [
        "우리는 위에서 상황에 맞는 귀무가설과 대립 가설을 세우고, 이를 우리가 수집한 데이터를 이용하여 둘 중 어떠한 가설을 채택할지에 대해 배웠습니다. 채택하는 과정에서 여러 통계적인 지식을 필요로 하기에, 우리는 1종 오류(p-value), 2종 오류 그리고 신뢰 구간 등에 대해서 배웠습니다. \n",
        "\n",
        "여러분들은 이러한 통계적 지식을 잘 습득한뒤, 어떠한 상황에서도 이를 응용 할 수 있도록 합니다.   "
      ],
      "metadata": {
        "id": "RakTgAVcmCVH"
      }
    }
  ]
}