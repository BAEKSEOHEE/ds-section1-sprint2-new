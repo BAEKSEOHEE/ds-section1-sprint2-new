{
  "nbformat": 4,
  "nbformat_minor": 0,
  "metadata": {
    "colab": {
      "name": "sprint 2 - note 2: CLT.ipynb",
      "provenance": [],
      "collapsed_sections": [],
      "toc_visible": true
    },
    "kernelspec": {
      "name": "python3",
      "display_name": "Python 3"
    },
    "language_info": {
      "name": "python"
    }
  },
  "cells": [
    {
      "cell_type": "markdown",
      "source": [
        "<img src='https://i.imgur.com/RDAD11M.png' width = '200' align = 'right'>\n",
        "\n",
        "## *DATA SCIENCE / SECTION 1 / SPRINT 2 / NOTE 2*\n",
        "\n",
        "---\n",
        "\n",
        "# Central Limit Theorem\n",
        "\n",
        "## 🏆 학습 목표 \n",
        "- 큰 수의 법칙에 대해 설명할 수 있습니다.\n",
        "- 중심 극한 정리에 대해 설명할 수 있습니다.\n",
        "- 신뢰 구간에 대해 설명 할 수 있습니다.\n",
        "---"
      ],
      "metadata": {
        "id": "FdhNwfSkBQ4E"
      }
    },
    {
      "cell_type": "markdown",
      "source": [
        "이 노트는 아래의 구성으로 이뤄져 있습니다.\n",
        "- **Part 0. Introduction**  \n",
        "  0-1. 기획 배경  \n",
        "\n",
        "- **Part 1. 기술 통계 vs 추리 통계**  \n",
        "\n",
        "- **Part 2. 표본 분포 (Sampling Distribution)**  \n",
        "  2-1. Boostrapping 테크닉 \n",
        "  2-2. 표본 분포 with sample size 10  \n",
        "  2-3. 표본 분포 with sample size 100 \n",
        "\n",
        "- **Part 3. 큰 수의 법칙 (Law of Large Numbers)**\n",
        "- **Part 4. 중심 극한 정리 (Central Limit Theorem)**  \n",
        "- **Part 5. 신뢰 구간 (Confidence Interval)**  "
      ],
      "metadata": {
        "id": "7fgKktQyZJQ3"
      }
    },
    {
      "cell_type": "markdown",
      "source": [
        "# **Part 0. Introduction**\n",
        "<img width='500' src='https://i.imgur.com/ZDERxGQ.png'>"
      ],
      "metadata": {
        "id": "bxpKYN15XHRi"
      }
    },
    {
      "cell_type": "markdown",
      "source": [
        "## **0-1. 기획 배경**\n",
        "\n",
        "모든 데이터 분석은 통계에서 출발합니다. <br> \n",
        "통계는 기본적으로 `추론(inference)`을 통해 샘플 데이터를 발생시킨 `실제 세계(population)`를 설명하는 과정으로 <br>\n",
        "이것은 통계의 본질인 바로 **데이터로부터 의미를 찾는 것**입니다. \n",
        "\n",
        "우리는 이번 노트에서 데이터 분석에 필요한 통계 지식에 대해 배워보도록 합니다! \n",
        "\n",
        "\n"
      ],
      "metadata": {
        "id": "9H8M49ozBwq3"
      }
    },
    {
      "cell_type": "markdown",
      "source": [
        "# **Part 1. 기술 통계 vs 추리 통계**\n",
        "\n",
        "먼저, `모집단 (Population)`과 `표본 (Sample)`이 무엇인지 명확하게 이해하고 이 개념을 **`기술 통계 (Descriptive Statistics)`**와 **`추리 통계 (Inferential Statistics)`**에 적용하도록 합니다. \n",
        "\n",
        "- **모집단 이란?** <br>\n",
        "  - 모집단은 `인구`라는 의미의 `Population` 입니다. <br>\n",
        "  - 이때 모집단이란 일반적 의미의 인구가 아닌, 우리가 알고 싶어하는 또는 다루고 싶어하는 대상을 구성하는 모든 데이터라고 이해하시면 됩니다.  <br>\n",
        "  - 이 모집을 구성하는 데이터를 설명하는 수치값이 **모수** 입니다. 모수에는 `모평균, 모분산, 모표준편차, 모비율, 모상관관계` 등이 있습니다. 이 모수는 굉장히 중요합니다. 왜냐하면 우리가 실제로 알고자 하는 것은 모집단의 데이터가 아닌 **모집단의 특성을 설명한는 모수** 이기 때문입니다. <br>\n",
        "  - 하지만, 우리는 모집단에 대한 데이터를 모두 수집하는 것은 불가능합니다. 그렇다면 우리는 어떻게 모집단의 모수를 알 수 있을까요? ***표본을 추출해서 모집단의 모수를 추정할 수 있습니다.*** \n",
        "\n",
        "- **표본 이란?** <br>\n",
        "  - 표본이란 모집단에서 추출된 모집단의 부분 집합 입니다. \n",
        "  - 모수가 모집단의 분포 특성을 설명하는 것처럼, 통계량이란 표본의 특성을 설명한는 값입니다. 통계량에는 `표본평균, 표본분산, 표본표준편차, 표본비율, 표본상관관계` 등이 있습니다. \n",
        "\n",
        ">⚠️ **그렇다면 모수와 통계량은 어떻게 다른 걸까요?** <br>\n",
        "모수는 모집단이 변하지 않기 때문에 그 값이 변하지 않습니다. 반면, 통계량은 표본을 어떻게 추출하느냐에 따라 그 값이 변합니다. \n",
        "\n",
        "<br>\n",
        "\n",
        "여러분들은 모집단과 표본에 대한 개념에 대해 익히셨습니다. \n",
        "이제 시나리오를 통해 **기술 통계**와 **추리 통계**에 대해 배워보도록 합니다. <br>\n",
        "아래의 테이블에서 통계 용어들어 익숙해지고, 통계 개념을 실제 상황에 적용해 보도록 합니다.\n",
        "\n",
        "\n",
        "- **용어 정리**\n",
        "\n",
        "<img width='600' src='https://i.imgur.com/8Ld7eFg.png'>\n",
        "\n",
        "\n",
        "\n",
        "- **시나리오**\n",
        "\n",
        "> 모든 코드스테이츠 부트캠프 학생들 중 비전공자의 비율을 알고자 합니다. 이전 1기부터 현재 기수까지 모든 학생들 100,000 명에게 학부에서 데이터 관련 전공을 했는지를 물어보는 이메일을 보냈습니다. 하지만, 모든 학생들이 이 이메일에 답장하지 않았고 5,000명의 학생들에게 답장을 받았습니다. 그리고 이렇게 답장한 사람들 중 73% 가 비전공자라고 대답했습니다. \n",
        "\n",
        "\n",
        "우선 이 시나리오에서, \n",
        "- **모집단** \n",
        "  - 모든 코드스테이츠 부트캠프 학생들로 우리가 이메일을 보낸 100,000 명의 학생들을 말합니다.\n",
        "- **표본** \n",
        "  - 우리의 이메일에 응답한 학생들로 우리가 가지고 있는 5,000개의 데이터를 말합니다.\n",
        "- **통계치** \n",
        "  - 응답한 학생들의 비전공자 비율인 73% 로 우리가 가지고 있는 데이터의 설명, 묘사 하는 값을 말합니다.\n",
        "- **모수** \n",
        "  - 모든 100,000 명의 학생들의 비전공자 비율로 이 값을 알기 위해서는 모든 부트캠프 학생들로부터 전공에 관한 정보를 필요로 하기 때문에 우리는 이 값을 모릅니다.\n",
        "  - 이 값을 아는 것은 불가능하기에 우리는 우리가 가지고 있는 샘플의 통계치를 기반으로 이 모수에 대한 결론을 도출하게 되는데 이를 추론(inference) 이라고 합니다.\n",
        "- **기술 통계** \n",
        "  - 우리가 가지고 있는 데이터인 5000명의 학생들의 전공에 관한 정보를 묘사, 설명하는 것을 말합니다. 방법에는 평균, 분산, 표준편차, 비율, 상관 관계 등이 있습니다. \n",
        "- **추리 통계** \n",
        "  - 모든 코드스테이츠 학생들의 전공에 관한 특징을 말합니다. \n",
        "  - 이때 오로지 5000명의 학생들만 응답을 하였고, 이 5,000명의 샘플 데이터를 이용하여 100,000명의 모든 부트캠프 학생들에 관한 결과를 도출하는 것을 추리 통계라고 합니다.  \n"
      ],
      "metadata": {
        "id": "YQ7xOBQKGPq1"
      }
    },
    {
      "cell_type": "markdown",
      "source": [
        "# **Part 2. 표본 분포 (Sampling Distribution)**\n",
        "\n",
        "<img width='600' src='https://i.imgur.com/VWyyAo2.png'>\n",
        "\n",
        "**표본 분포**란 모집단에서 랜덤으로 추출한 샘플의 **통계량의 확률 분포 (Distribution of a Statsitics)**를 말합니다. <br> \n",
        "즉, 표본 분포란 모집단에서 추출한 샘플의 통계치의 분포를 말합니다. \n",
        "  \n",
        "<br>\n",
        "\n",
        "  - **표본 분포는 왜 중요한가**\n",
        "    - 위에서 우리는 모집단의 모든 데이터를 가질 수 없기에 모수를 알 수 없으므로 우리가 가지고 있는 샘플을 이용해 모수를 추론해야 함을 배웠습니다.\n",
        "    - 표본 분포는 우리가 가지고 있는 한정적인 데이터를 이용해 모수를 추론할 수 있도록 하기 때문에 중요합니다. \n",
        "\n",
        "<br>\n",
        "\n",
        "  - **표본 분포 시행 방법**\n",
        "    - 우리는 우리가 가지고 있는 샘플을 모집단이라 가정합니다. 그리고 이 모집단에서 랜덤으로 샘플을 추출하여 샘플의 평균값을 저장합니다. 이후 이 평균값들의 분포를 통해 모집단의 모수를 추론합니다. 즉, 우리가 가지고 있는 샘플에서 다시 샘플링을 시행하고 추출된 데이터의 평균값을 사용하여 모수를 추론하게 되는 것입니다.      \n",
        "\n",
        "<br>\n",
        "\n",
        "- **표본 분포 시나리오** <br>\n",
        "  - 위에서 제시한 코드스테이츠 부트캠프 학생들의 비전공 비율 예시를 통해 \n",
        "표본 분포에 대해 배워 보도록 합니다.\n",
        "> 모든 코드스테이츠 학생들의 비전공자 비율에 대해 알고자 할 때, 우리는 5,000명의 학생들에 대한 정보만을 가지고 있습니다. 우리는 이 5,000명의 학생들이 모든 코드스테이츠 학생들인 모집단 (population)이라고 가정합니다. 그리고 이 모집단에서 우리는 샘플 (subset of data)을 계속적으로 추출하여 통계치를 계산하여 그 값을 저장합니다. 이 통계치들의 분포가 표본 분포입니다. 이때 우리는 추출하는 과정을 10,000번 시행하게 될 것이고 그러기에 우리는 10,000개의 평균값을 가지게 됩니다. 여기서 우리는 샘플을 추출할 때, 샘플의 개수를 10개일 때와 100개일 때의 표본 분포를 비교하도록 합니다.  \n",
        "\n",
        "<br> \n",
        "\n",
        "- **표보 분포 코드 구현**  <br> \n",
        "   - 이를 구현하는 코드는 아래의 순서로 진행합니다. <br>\n",
        "  >   **1.** numpy의 **random.choice** 메서드를 이용하여 population 에서 10개의 데이터를 추출합니다.<br>\n",
        "  **2.** 10개의 데이터의 평균을 계산하여 리스트에 저장합니다.<br>\n",
        "  **3.** 1번과 2번의 과정을 for loop을 이용하여 10,000번 반복합니다. 그러면 리스트에는 10,000번 추출된 10개의 데이터의 평균값이 저장됩니다.<br>\n",
        "  **4.** 히스토그램을 이용해 평균값들의 분포를 확인합니다. \n"
      ],
      "metadata": {
        "id": "HsDd-WQhJStk"
      }
    },
    {
      "cell_type": "code",
      "source": [
        "import numpy as np\n",
        "import random\n",
        "import matplotlib.pyplot as plt"
      ],
      "metadata": {
        "id": "eKhNjrhmBXmh"
      },
      "execution_count": null,
      "outputs": []
    },
    {
      "cell_type": "code",
      "source": [
        "# 비전공자 비율이 78%인 5000명의 학생 데이터를 생성\n",
        "import random\n",
        "\n",
        "random.seed(10)\n",
        "\n",
        "codestates_students = np.random.choice([0, 1], size=5000, p=[.22, .78])\n",
        "codestates_students"
      ],
      "metadata": {
        "id": "ZvJlOviWzsGP",
        "colab": {
          "base_uri": "https://localhost:8080/"
        },
        "outputId": "29173d6a-5ece-4b8e-d5df-730c4f34f332"
      },
      "execution_count": null,
      "outputs": [
        {
          "output_type": "execute_result",
          "data": {
            "text/plain": [
              "array([1, 1, 1, ..., 1, 1, 0])"
            ]
          },
          "metadata": {},
          "execution_count": 45
        }
      ]
    },
    {
      "cell_type": "code",
      "source": [
        "# 데이터가 0과 1일때 평균은 비율과 같음\n",
        "pop_ratio = codestates_students.mean()\n",
        "pop_ratio"
      ],
      "metadata": {
        "colab": {
          "base_uri": "https://localhost:8080/"
        },
        "id": "Zp1yE3bP09Ra",
        "outputId": "b999f908-c6a0-4bbd-ba31-a41071aff1ca"
      },
      "execution_count": null,
      "outputs": [
        {
          "output_type": "execute_result",
          "data": {
            "text/plain": [
              "0.7784"
            ]
          },
          "metadata": {},
          "execution_count": 46
        }
      ]
    },
    {
      "cell_type": "code",
      "source": [
        "# 모집단의 분산\n",
        "pop_var = codestates_students.var()\n",
        "pop_var"
      ],
      "metadata": {
        "colab": {
          "base_uri": "https://localhost:8080/"
        },
        "id": "1POay3jWXYPj",
        "outputId": "5fafae0c-d00f-4ea7-f729-cad2c2847e9e"
      },
      "execution_count": null,
      "outputs": [
        {
          "output_type": "execute_result",
          "data": {
            "text/plain": [
              "0.17249344"
            ]
          },
          "metadata": {},
          "execution_count": 47
        }
      ]
    },
    {
      "cell_type": "code",
      "source": [
        "# 모집단의 표준편차 \n",
        "pop_std = codestates_students.std()\n",
        "pop_std"
      ],
      "metadata": {
        "colab": {
          "base_uri": "https://localhost:8080/"
        },
        "id": "9VDgra8DXYSE",
        "outputId": "f547f71e-e4db-4aa4-acc1-d950c01d3b03"
      },
      "execution_count": null,
      "outputs": [
        {
          "output_type": "execute_result",
          "data": {
            "text/plain": [
              "0.4153232957588582"
            ]
          },
          "metadata": {},
          "execution_count": 48
        }
      ]
    },
    {
      "cell_type": "code",
      "source": [
        "# 모집단의 평균 x (1-모집단의 평균)\n",
        "pop_ratio*(1-pop_ratio)"
      ],
      "metadata": {
        "colab": {
          "base_uri": "https://localhost:8080/"
        },
        "id": "DyU_Fm0PYZDA",
        "outputId": "f1be142f-f224-4f09-ba96-7299a4d59c63"
      },
      "execution_count": null,
      "outputs": [
        {
          "output_type": "execute_result",
          "data": {
            "text/plain": [
              "0.17249344"
            ]
          },
          "metadata": {},
          "execution_count": 49
        }
      ]
    },
    {
      "cell_type": "markdown",
      "source": [
        "> **🔎 해설** <br>\n",
        "- 우리는 시나리오에 해당하는 비전공자의 비율이 78%인 5,000개의 학생 데이터를 생성하였습니다. 이 5,000개의 데이터 샘플은 코드스테이츠 부트캠프의 전체 학생인 **모집단**이라 가정합니다. \n",
        "- 0은 전공자 학생을 의미하고 1은 비전공자 학생을 의미합니다. \n",
        "- `pop_ratio` 변수는 모집단의 비전공자의 비율로 모집단의 평균이기도 합니다. \n",
        "  - 데이터가 0과 1로 이루어져 있을 때 데이터의 평균은 비율과 같습니다. \n",
        "- 모집단의 분산은 아래의 공식을 통해 구할 수 있음을  확인할 수 있습니다.\n",
        "```\n",
        "모집단의 분산 = 모집단의 평균 x (1 - 모집단의 평균) \n",
        "```"
      ],
      "metadata": {
        "id": "P1SNFE66NoqZ"
      }
    },
    {
      "cell_type": "markdown",
      "source": [
        "## **2-1. Boostrapping 테크닉**\n",
        "\n",
        "<img width='600' src='https://i.imgur.com/eIPwygd.png'>\n",
        "\n",
        "- **부트스트랩 이란**\n",
        "  - 우리가 가지고 있는 5000명의 데이터를 우리의 모집단이라 가정한 뒤, <br>\n",
        "이 모집단에서 **`for loop`**을 사용하여 샘플을 10,000번 추출하여 이 샘플들의 평균의 분포를 확인하도록 하는데, 이때 우리가 사용하는 테크닉이 바로 **`부트스트랩 (Boostrapping)`** 입니다. 부스트랩은 ***중복 추출을 허용하여 원하는 개수의 데이터를 추출하는 것***을 말합니다.\n",
        "\n",
        "<br>\n",
        "\n",
        "- **부트스트랩 구현 방법**\n",
        "  - **for loop**을 사용하여 10,000번 iterations 돌립니다. 그리고 각 iteration 마다 **random.choice** 메서드를 이용하여 샘플을 추출하도록 합니다.\n",
        "\n",
        "<br>\n",
        "\n",
        "- **부스트랩의 장점**\n",
        "  - 우리가 알고자 하는 것이 모집단의 모수이고, 이 모수를 더 잘 이해하기 위해 더 많은 데이터를 필요로 하지 않고 가지고 있는 데이터로 추정할 수 있는 점이 부스트랩 기법이 유용한 이유입니다.\n",
        "\n",
        "\n",
        "> ⚠️ <br>\n",
        "우리는 아래에서 부스트랩을 사용하여 표본 분포를 simulate하는데 이때 샘플의 개수를 **10개 추출**했을 때와 **100개 추출**했을 때의 차이에 주의하며 보도록 합니다."
      ],
      "metadata": {
        "id": "TF85lzALNNM0"
      }
    },
    {
      "cell_type": "markdown",
      "source": [
        "## **2-2. 표본 분포 with sample size 10**\n",
        "\n",
        "우리가 가정한 5,000명의 학생들에서 **10개의 데이터를 중복추출을 허용**하여 10,000번 추출해 평균값들의 분포를 확인하도록 합니다. <br>\n",
        "이 분포는 **`샘플의 개수가 10개일 때의 표본 분포`**입니다.\n",
        "\n",
        "> ⚠️ <br>\n",
        "이 표본 분포의 `평균`, `분산`, `표준 편차`를 확인해 보도록 합니다.\n"
      ],
      "metadata": {
        "id": "NbDiSrLm6M9M"
      }
    },
    {
      "cell_type": "code",
      "source": [
        "random.seed(10)\n",
        "\n",
        "sample_of_10 = []\n",
        "\n",
        "for _ in range(10000):\n",
        "  sample = np.random.choice(codestates_students, 10, replace=True)\n",
        "  sample_of_10.append(sample.mean())"
      ],
      "metadata": {
        "id": "IOSjncvL4pYC"
      },
      "execution_count": null,
      "outputs": []
    },
    {
      "cell_type": "code",
      "source": [
        "plt.figure(figsize=(8,5))\n",
        "plt.hist(sample_of_10, alpha=.5);"
      ],
      "metadata": {
        "colab": {
          "base_uri": "https://localhost:8080/",
          "height": 320
        },
        "id": "RxZEsMBP41mN",
        "outputId": "1f747a93-1b2b-40d7-f518-9465e43f31d0"
      },
      "execution_count": null,
      "outputs": [
        {
          "output_type": "display_data",
          "data": {
            "text/plain": [
              "<Figure size 576x360 with 1 Axes>"
            ],
            "image/png": "[encoded data removed]"
          },
          "metadata": {
            "needs_background": "light"
          }
        }
      ]
    },
    {
      "cell_type": "code",
      "source": [
        "sample_of_10 = np.array(sample_of_10)\n",
        "\n",
        "# 샘플 사이즈가 10개 일때 표본 분포의 평균\n",
        "mean_of_10 = sample_of_10.mean()\n",
        "mean_of_10"
      ],
      "metadata": {
        "colab": {
          "base_uri": "https://localhost:8080/"
        },
        "id": "xRAq_JH449Ci",
        "outputId": "a21e6ec2-3229-43ed-e764-5d48103932fe"
      },
      "execution_count": null,
      "outputs": [
        {
          "output_type": "execute_result",
          "data": {
            "text/plain": [
              "0.7794800000000001"
            ]
          },
          "metadata": {},
          "execution_count": 52
        }
      ]
    },
    {
      "cell_type": "code",
      "source": [
        "# 샘플 사이즈가 10개일 때 표본 분포의 분산\n",
        "var_of_10 = sample_of_10.var()\n",
        "var_of_10"
      ],
      "metadata": {
        "colab": {
          "base_uri": "https://localhost:8080/"
        },
        "id": "rL11fU9FWing",
        "outputId": "7b80a383-8c70-41f5-ee28-f386e047d43b"
      },
      "execution_count": null,
      "outputs": [
        {
          "output_type": "execute_result",
          "data": {
            "text/plain": [
              "0.017100929600000002"
            ]
          },
          "metadata": {},
          "execution_count": 53
        }
      ]
    },
    {
      "cell_type": "code",
      "source": [
        "# # 샘플 사이즈가 10개일 때 표본 분포의 표준편차\n",
        "std_of_10 = sample_of_10.std()\n",
        "std_of_10 "
      ],
      "metadata": {
        "colab": {
          "base_uri": "https://localhost:8080/"
        },
        "id": "PiiePQFoXMhi",
        "outputId": "d2a84868-f046-4c41-f8fa-2da055b36e4e"
      },
      "execution_count": null,
      "outputs": [
        {
          "output_type": "execute_result",
          "data": {
            "text/plain": [
              "0.1307705226723515"
            ]
          },
          "metadata": {},
          "execution_count": 54
        }
      ]
    },
    {
      "cell_type": "markdown",
      "source": [
        "> **🔎 해설** <br>\n",
        "- 샘플 사이즈가 **10일 때** 표분 분포의 평균은 `0.779` 로 모집단의 평균인 `0.778`과 굉장히 비슷한 것을 알 수 있습니다.\n",
        "- 하지만 이 표본 분포의 분산은 `0.017`로 모집단의 분산인 `0.17`에서 샘플 사이즈 `10`을 나눈 값인 것을 확인할 수 있습니다. 표본 분포의 분산은 모집단의 분산에서 표본의 크기를 나눈 값이기 때문입니다.\n",
        "```\n",
        "표본 분포의 분산 = 모집단의 평균 x (1 - 모집단의 평균) / 샘플 사이즈\n",
        "```\n"
      ],
      "metadata": {
        "id": "xajQlUmck68d"
      }
    },
    {
      "cell_type": "markdown",
      "source": [
        "## **2-3. 표본 분포 with sample size 100**\n",
        "\n",
        "위에서 우리는 한번 샘플을 추출할 때마다 10개의 데이터를 꺼냈습니다. <br>\n",
        "이번에는 샘플을 추출할 때마다 **100개의 데이터를 추출**하여 그 평균값의 분포를 확인해 보도록 하겠습니다. <br>\n",
        "이 분포는 **`샘플의 개수가 100개일 때의 표본 분포`**입니다.\n",
        "\n",
        "> ⚠️ <br>\n",
        "이 표본 분포의 `평균`, `분산`, `표준 편차`를 샘플 사이즈를 10으로 추출했을 때의 표본 분포의 평균, 분산, 표준 편차와 비교하도록 합니다. <br>\n",
        "그리고 샘플링하는 데이터 개수의 차이에 따라 어떠한 변화가 있는지 주의하여 보도록 합니다!"
      ],
      "metadata": {
        "id": "nJnQaGckb64C"
      }
    },
    {
      "cell_type": "code",
      "source": [
        "random.seed(10)\n",
        "\n",
        "sample_of_100 = []\n",
        "\n",
        "for _ in range(10000):\n",
        "  sample = np.random.choice(codestates_students, 100, replace=True)\n",
        "  sample_of_100.append(sample.mean())"
      ],
      "metadata": {
        "id": "_vyrdI4SXQ-n"
      },
      "execution_count": null,
      "outputs": []
    },
    {
      "cell_type": "code",
      "source": [
        "plt.figure(figsize=(8,5))\n",
        "plt.hist(sample_of_100, alpha=.5);"
      ],
      "metadata": {
        "colab": {
          "base_uri": "https://localhost:8080/",
          "height": 320
        },
        "id": "UCXu4ggWa6vf",
        "outputId": "2117f41d-6129-43ef-9614-0a49ee120866"
      },
      "execution_count": null,
      "outputs": [
        {
          "output_type": "display_data",
          "data": {
            "text/plain": [
              "<Figure size 576x360 with 1 Axes>"
            ],
            "image/png": "[encoded data removed]"
          },
          "metadata": {
            "needs_background": "light"
          }
        }
      ]
    },
    {
      "cell_type": "code",
      "source": [
        "sample_of_100 = np.array(sample_of_100)\n",
        "\n",
        "# 샘플 사이즈가 100개일 때 표본 분포의 평균\n",
        "mean_of_100 = sample_of_100.mean()\n",
        "mean_of_100"
      ],
      "metadata": {
        "colab": {
          "base_uri": "https://localhost:8080/"
        },
        "id": "58B1WpQEeKdb",
        "outputId": "6860c46b-f9c8-4868-958e-6087ee3c12d1"
      },
      "execution_count": null,
      "outputs": [
        {
          "output_type": "execute_result",
          "data": {
            "text/plain": [
              "0.7785479999999999"
            ]
          },
          "metadata": {},
          "execution_count": 57
        }
      ]
    },
    {
      "cell_type": "code",
      "source": [
        "# 샘플 사이즈가 100개일 때 표본 분포의 분산\n",
        "var_of_100 = sample_of_100.var()\n",
        "var_of_100"
      ],
      "metadata": {
        "colab": {
          "base_uri": "https://localhost:8080/"
        },
        "id": "RULIf34LeKnG",
        "outputId": "a078fdd8-7a1f-4922-a788-dae1276a13f3"
      },
      "execution_count": null,
      "outputs": [
        {
          "output_type": "execute_result",
          "data": {
            "text/plain": [
              "0.0017191516960000002"
            ]
          },
          "metadata": {},
          "execution_count": 58
        }
      ]
    },
    {
      "cell_type": "code",
      "source": [
        "# 샘플 사이즈가 100개일 때 표본 분포의 표준편차\n",
        "std_of_100 = sample_of_100.std()\n",
        "std_of_100 "
      ],
      "metadata": {
        "colab": {
          "base_uri": "https://localhost:8080/"
        },
        "id": "E2WQsbddeKu_",
        "outputId": "0fd4284c-a612-44e3-c1ce-db37eccbcffa"
      },
      "execution_count": null,
      "outputs": [
        {
          "output_type": "execute_result",
          "data": {
            "text/plain": [
              "0.04146265423245357"
            ]
          },
          "metadata": {},
          "execution_count": 59
        }
      ]
    },
    {
      "cell_type": "markdown",
      "source": [
        "> **🔎 해설** <br>\n",
        "- 데이터의 개수가 **100개일 때**의 표본 분포의 평균은 `0.778`으로 데이터의 개수가 10개일 때 표본 분포의 평균보다 더 **모집단의 평균에 가까워진 것을 확인**할 수 있습니다.\n",
        "- 이 표본 분포의 분산은 `0.0017`로 모집단의 분산 `0.17`에서 **`샘플의 개수 100`**을 나눈 것과 같습니다. 이는 위에서 우리가 찾은 결과와 일맥상통한 것을 알 수 있습니다. \n",
        "\n",
        "> ⚠️ <br>\n",
        "아래에서는 두 표본 분포를 비교해 보도록 합니다!"
      ],
      "metadata": {
        "id": "9J6y7-o0nJUT"
      }
    },
    {
      "cell_type": "code",
      "source": [
        "plt.figure(figsize=(8,5))\n",
        "plt.hist(sample_of_10, alpha=.5)\n",
        "plt.hist(sample_of_100, alpha=.5)\n",
        "plt.axvline(x=pop_ratio, c='red', label = 'Population Mean')\n",
        "plt.legend();"
      ],
      "metadata": {
        "colab": {
          "base_uri": "https://localhost:8080/",
          "height": 320
        },
        "id": "GzRosEancKAs",
        "outputId": "fdcecf0a-eb53-4eeb-9d9e-affe396bdb19"
      },
      "execution_count": null,
      "outputs": [
        {
          "output_type": "display_data",
          "data": {
            "text/plain": [
              "<Figure size 576x360 with 1 Axes>"
            ],
            "image/png": "[encoded data removed]"
          },
          "metadata": {
            "needs_background": "light"
          }
        }
      ]
    },
    {
      "cell_type": "markdown",
      "source": [
        "> **🔎 해설** <br>\n",
        "추춸한 샘플 사이즈가 **10인 경우**와 **100인 경우**의 표분 분포 비교\n",
        "- 샘플 사이즈가 커질수록 표본 분포가 더 좁아지는 것을 알 수 있습니다. 이는 샘플 사이즈가 많아질수록 분산이 줄어드는 것을 의미합니다. \n",
        "  - 이는 위에서 우리가 찾은 관계인 표본 분포의 분산은 모집단의 분포에 샘플 사이즈로 나눈 것과 같습니다.\n",
        "```\n",
        "표본 분포의 분산 = 모집단의 평균 x (1 - 모집단의 평균) / 샘플 사이즈\n",
        "```\n",
        "- 두 표본 분포는 모집단의 모수를 중심으로 위치해 있습니다. 두 분포의 평균은 모두 모집단의 평균과 근사하며, 샘플 사이즈가 더 많아질 수록 모집단의 모수에 더 가까워지는 것을 알 수 있습니다. \n",
        "\n",
        "\n",
        "> **💡 Tip**  \n",
        "위에서 확인한 모집단에서 표본을 추출할 때 **표본의 크기가 커지면 표본의 평균은 모집단의 모수와 같아질 확률이 높아진다는 것**은 수학적 이론 ***큰 수의 법칙 (Law of Large Numbers)***에 근거하고 있습니다. 다음으로 이 법칙에 대해 배워 보도록 합니다!"
      ],
      "metadata": {
        "id": "p-O4CrSWqS3W"
      }
    },
    {
      "cell_type": "markdown",
      "source": [
        "# **Part 3. 큰 수의 법칙 (Law of Large Numbers)**\n",
        "\n",
        "**큰 수의 법칙**이란, <br>\n",
        "샘플 사이즈가 커질수록 샘플의 통계치는 모집단의 모수에 가까워진다는 이론입니다.  \n",
        "\n",
        "즉, 여러분들께서 모집단의 평균을 알고자 할 때, 이를 모집단에서 추출한 샘플들의 평균으로 추정할 수 있고 이때 **추출한 샘플 사이즈가 클수록 모집단의 평균을 측정하기에 좋다**라는 것입니다. \n",
        "\n",
        "아래에서 이를 데이터로 확인해 보도록 합니다. \n",
        "우리는 랜덤으로 데이터를 생성한 뒤 이를 모집단이라 가정합니다. <br>\n",
        "그리고 이 모집단에서 **샘플 사이즈를 3, 10, 30 개씩 추출**하여 평균값을 계산하고 이를 모집단의 평균과 비교해보도록 합니다.\n"
      ],
      "metadata": {
        "id": "SCL3jZwMpPfF"
      }
    },
    {
      "cell_type": "code",
      "source": [
        "np.random.seed(0)\n",
        "\n",
        "pop = [] \n",
        "\n",
        "for i in range(5000):\n",
        "  pop.append(np.random.beta(1,9))"
      ],
      "metadata": {
        "id": "2GkLj4MmzmR6"
      },
      "execution_count": null,
      "outputs": []
    },
    {
      "cell_type": "code",
      "source": [
        "# 모집단의 모수 확인\n",
        "pop = np.array(pop)\n",
        "\n",
        "pop_mean = pop.mean()\n",
        "\n",
        "pop_mean"
      ],
      "metadata": {
        "colab": {
          "base_uri": "https://localhost:8080/"
        },
        "id": "QQnXV6Dm5hZU",
        "outputId": "4c18216c-3f99-4c65-a2db-e3a61fb49b71"
      },
      "execution_count": null,
      "outputs": [
        {
          "output_type": "execute_result",
          "data": {
            "text/plain": [
              "0.09899610609722446"
            ]
          },
          "metadata": {},
          "execution_count": 62
        }
      ]
    },
    {
      "cell_type": "code",
      "source": [
        "plt.figure(figsize=(8,5))\n",
        "plt.hist(pop, alpha=0.5)\n",
        "plt.axvline(pop_mean, c='red', lw=2, label='Mean of Population')\n",
        "plt.legend();"
      ],
      "metadata": {
        "colab": {
          "base_uri": "https://localhost:8080/",
          "height": 320
        },
        "id": "A-vN-8HxNgZ9",
        "outputId": "ba302723-3d1c-4716-8b88-1eaeb41d4bb4"
      },
      "execution_count": null,
      "outputs": [
        {
          "output_type": "display_data",
          "data": {
            "text/plain": [
              "<Figure size 576x360 with 1 Axes>"
            ],
            "image/png": "[encoded data removed]"
          },
          "metadata": {
            "needs_background": "light"
          }
        }
      ]
    },
    {
      "cell_type": "code",
      "source": [
        "# 3개의 데이터를 뽑아 평균을 계산하고 이를 모집단의 평균과 비교\n",
        "np.random.seed(1)\n",
        "sample1 = np.random.choice(pop, 3)\n",
        "sample_mean_3 = sample1.mean()\n",
        "sample_mean_3\n",
        "\n",
        "plt.figure(figsize=(8,5))\n",
        "plt.hist(pop,alpha=0.5)\n",
        "plt.axvline(pop_mean, c='red', lw=2, label='Mean of Population')\n",
        "plt.axvline(sample_mean_3, c='green', lw=2, label = 'Mean of Sample Size 3')\n",
        "plt.legend();"
      ],
      "metadata": {
        "colab": {
          "base_uri": "https://localhost:8080/",
          "height": 320
        },
        "id": "pIQ3gy9NNnVp",
        "outputId": "831338ea-0ba2-4c95-843c-1667e87c271f"
      },
      "execution_count": null,
      "outputs": [
        {
          "output_type": "display_data",
          "data": {
            "text/plain": [
              "<Figure size 576x360 with 1 Axes>"
            ],
            "image/png": "[encoded data removed]"
          },
          "metadata": {
            "needs_background": "light"
          }
        }
      ]
    },
    {
      "cell_type": "code",
      "source": [
        "# 10개의 데이터를 뽑아 평균값을 계산하고 이를 모집단의 평균과 비교\n",
        "np.random.seed(1)\n",
        "\n",
        "sample2 = np.random.choice(pop, 10)\n",
        "sample_mean_10 = sample2.mean()\n",
        "sample_mean_10\n",
        "\n",
        "plt.figure(figsize=(8,5))\n",
        "plt.hist(pop,alpha=0.5)\n",
        "plt.axvline(pop_mean, c='red', lw=2, label='Population Mean')\n",
        "plt.axvline(sample_mean_3, c='green', lw=2, label='Mean of Sample Size 3')\n",
        "plt.axvline(sample_mean_10, c='yellow', lw=2, label = 'Mean of Sample Size 10')\n",
        "plt.legend();"
      ],
      "metadata": {
        "colab": {
          "base_uri": "https://localhost:8080/",
          "height": 320
        },
        "id": "FEOcGZm45pxU",
        "outputId": "03c47ee7-e5b3-49dc-a56a-0eeb1c7accd8"
      },
      "execution_count": null,
      "outputs": [
        {
          "output_type": "display_data",
          "data": {
            "text/plain": [
              "<Figure size 576x360 with 1 Axes>"
            ],
            "image/png": "[encoded data removed]"
          },
          "metadata": {
            "needs_background": "light"
          }
        }
      ]
    },
    {
      "cell_type": "code",
      "source": [
        "# 30개의 데이터를 뽑아 평균값을 계산하고 이를 모집단의 평균과 비교\n",
        "np.random.seed(1)\n",
        "\n",
        "sample3 = np.random.choice(pop, 30)\n",
        "sample_mean_30 = sample3.mean()\n",
        "sample_mean_30\n",
        "\n",
        "plt.figure(figsize=(8,5))\n",
        "plt.hist(pop,alpha=0.5)\n",
        "plt.axvline(pop_mean, c='red', lw=2, label='Population Mean')\n",
        "plt.axvline(sample_mean_3, c='green', lw=2, label='Mean of Sample Size 3')\n",
        "plt.axvline(sample_mean_10, c='yellow', lw=2, label = 'Mean of Sample Size 10')\n",
        "plt.axvline(sample_mean_30, c='orange', lw=2, label = 'Mean of Sample Size 30')\n",
        "plt.legend();"
      ],
      "metadata": {
        "colab": {
          "base_uri": "https://localhost:8080/",
          "height": 320
        },
        "id": "Jt74HkLKSwkD",
        "outputId": "53c4a736-473d-4287-c94f-edebb412dc6b"
      },
      "execution_count": null,
      "outputs": [
        {
          "output_type": "display_data",
          "data": {
            "text/plain": [
              "<Figure size 576x360 with 1 Axes>"
            ],
            "image/png": "[encoded data removed]"
          },
          "metadata": {
            "needs_background": "light"
          }
        }
      ]
    },
    {
      "cell_type": "markdown",
      "source": [
        "> **🔎 해설** <br>\n",
        "- 위에서 알 수 있듯이 **샘플 사이즈가 커질수록 샘플의 평균값이 모집단의 모수에 가까워지는 것**을 알 수 있습니다. \n",
        "- 이 **큰 수의 법칙**을 우리는 부스트랩 테크닉을 이용하여 표본 분포를 simulate할때 적용하게 되면 유용합니다. \n",
        "  - 예를 들어, 모집단의 데이터 개수가 5,000개이고 여기서 샘플링을 하고자 할 때 **모집단의 데이터 개수만큼 (5,000개) 중복허용을 통해 샘플링**을 하게 되면, 표본 분포의 평균은 모집단의 모수에 가장 가까운 값을 얻을 수 있게 됩니다. \n",
        "  - 아래의 코드는 이를 구현한 것이고, **`df.shape[0]`**은 모집단의 데이터 개수를 말합니다.\n",
        "\n",
        "> ```\n",
        "mean_list = []\n",
        "for _ in range(10000):\n",
        "    sample = np.random.choice(df, df.shape[0])\n",
        "    mean_list.append(sample.mean())\n",
        "```\n"
      ],
      "metadata": {
        "id": "6fVy-IWtPbe0"
      }
    },
    {
      "cell_type": "markdown",
      "source": [
        "# **Part 4. 중심 극한 정리 (Central Limit Theorem)**\n",
        "\n",
        "**중심 극한 정리**란, <br>\n",
        "**모집단의 분포에 상관없이** 임의의 분포에서 추출된 ***표본들의 평균의 분포는 정규분포를 이룬다***는 이론입니다. \n",
        "\n",
        "> **💡 Tip** <br>\n",
        "중심 극한 정리에서 주의해야 할 점은 표본을 추출할 때 **충분한 샘플 사이즈**를 추출해야 한다는 점입니다. <br> 충분한 데이터 개수의 샘플을 추출하여 평균값의 표본 분포를 시뮬레이트하면 분포는 **정규분포**를 따르게 됩니다.\n",
        "\n",
        "하지만 중심 극한 정리는 모든 통계치에 적용되는 것은 아닙니다. <br>\n",
        "예시로 우리는 평균값을 이용했고 중심 극한 정리는 아래의 통계치에 적용될 수 있습니다.\n",
        "\n",
        "- **샘플의 평균**, $\\overline{x}$\n",
        "- **샘플의 비율**, $p$\n",
        "- **두 샘플 평균의 차이**, $\\overline{x_{1}} - \\overline{x_{2}}$\n",
        "- **두 샘플 비율의 차이**, $p_{1} - p_{2}$\n",
        "\n",
        "> ⚠️ <br>\n",
        "아래에서 샘플 사이즈를 `3개씩 추출`한 평균의 표본 분포와, `100개씩 추출`한 평균의 표본 분포를 비교해보도록 합니다. <br>\n",
        "**샘플 사이즈가 증가**했을 때의 표본 분포는 어떠한 변화를 보이는지 확인해 보세요! \n",
        "\n",
        "\n",
        "\n"
      ],
      "metadata": {
        "id": "3yWMRw3w59D2"
      }
    },
    {
      "cell_type": "code",
      "source": [
        "# 위에서 랜덤으로 시뮬레이트한 모집단을 사용합니다.\n",
        "plt.figure(figsize=(8,5))  \n",
        "plt.hist(pop, alpha=0.5);"
      ],
      "metadata": {
        "colab": {
          "base_uri": "https://localhost:8080/",
          "height": 320
        },
        "id": "OLENgkBAR60Y",
        "outputId": "e2f81818-3cbc-423e-dd82-4d5ebe39a5da"
      },
      "execution_count": null,
      "outputs": [
        {
          "output_type": "display_data",
          "data": {
            "text/plain": [
              "<Figure size 576x360 with 1 Axes>"
            ],
            "image/png": "[encoded data removed]"
          },
          "metadata": {
            "needs_background": "light"
          }
        }
      ]
    },
    {
      "cell_type": "code",
      "source": [
        "# 모집단의 평균 확인\n",
        "mean = pop.mean()\n",
        "mean"
      ],
      "metadata": {
        "colab": {
          "base_uri": "https://localhost:8080/"
        },
        "id": "Gto8MvpHI6nj",
        "outputId": "b72de431-3c57-453f-ce70-6b36e1bf1e54"
      },
      "execution_count": null,
      "outputs": [
        {
          "output_type": "execute_result",
          "data": {
            "text/plain": [
              "0.09899610609722446"
            ]
          },
          "metadata": {},
          "execution_count": 68
        }
      ]
    },
    {
      "cell_type": "code",
      "source": [
        "# 모집단의 분산 확인\n",
        "var = pop.var()\n",
        "var"
      ],
      "metadata": {
        "colab": {
          "base_uri": "https://localhost:8080/"
        },
        "id": "f8F9vtahJBr2",
        "outputId": "2b926516-a8f4-4b3b-e3ce-7710783ff7bb"
      },
      "execution_count": null,
      "outputs": [
        {
          "output_type": "execute_result",
          "data": {
            "text/plain": [
              "0.007988710969307195"
            ]
          },
          "metadata": {},
          "execution_count": 69
        }
      ]
    },
    {
      "cell_type": "code",
      "source": [
        "# 샘플을 추출할 때마다 3개의 데이터를 추출하여 평균값을 계산하고 그 평균들의 표본 분포를 simulate\n",
        "np.random.seed(1)\n",
        "\n",
        "means_size_3 = []\n",
        "\n",
        "for _ in range(10000):\n",
        "    sample = np.random.choice(pop, 3)\n",
        "    means_size_3.append(sample.mean())\n",
        "\n",
        "plt.figure(figsize=(8,5))    \n",
        "plt.hist(means_size_3, alpha=0.5);"
      ],
      "metadata": {
        "colab": {
          "base_uri": "https://localhost:8080/",
          "height": 320
        },
        "id": "7qVMinma5vE0",
        "outputId": "f52d64e5-1aef-4a23-ec38-4e040a679413"
      },
      "execution_count": null,
      "outputs": [
        {
          "output_type": "display_data",
          "data": {
            "text/plain": [
              "<Figure size 576x360 with 1 Axes>"
            ],
            "image/png": "[encoded data removed]"
          },
          "metadata": {
            "needs_background": "light"
          }
        }
      ]
    },
    {
      "cell_type": "code",
      "source": [
        "# 샘플 개수가 3개일 때의 표본 분포의 평균 확인\n",
        "means_size_3 = np.array(means_size_3)\n",
        "\n",
        "means_size_3_mean = means_size_3.mean()\n",
        "means_size_3_mean"
      ],
      "metadata": {
        "colab": {
          "base_uri": "https://localhost:8080/"
        },
        "id": "6-seZQObIqsr",
        "outputId": "7843840e-983f-4034-947e-973d34caf0cc"
      },
      "execution_count": null,
      "outputs": [
        {
          "output_type": "execute_result",
          "data": {
            "text/plain": [
              "0.09878506072951315"
            ]
          },
          "metadata": {},
          "execution_count": 73
        }
      ]
    },
    {
      "cell_type": "code",
      "source": [
        "# 샘플 개수가 3개일 때의 표본 분포의 분산 확인\n",
        "means_size_3_var = means_size_3.var()\n",
        "means_size_3_var"
      ],
      "metadata": {
        "colab": {
          "base_uri": "https://localhost:8080/"
        },
        "id": "owGhlMwrIyiY",
        "outputId": "ca828f4e-cc43-468d-bfc6-636abffd02a0"
      },
      "execution_count": null,
      "outputs": [
        {
          "output_type": "execute_result",
          "data": {
            "text/plain": [
              "0.002629329525481775"
            ]
          },
          "metadata": {},
          "execution_count": 74
        }
      ]
    },
    {
      "cell_type": "code",
      "source": [
        "# 샘플을 추출할 때마다 100개의 데이터를 추출하여 평균값을 계산하고 그 평균들의 표본 분포를 simulate\n",
        "np.random.seed(1)\n",
        "\n",
        "means_size_100 = []\n",
        "\n",
        "for _ in range(10000):\n",
        "    sample = np.random.choice(pop, 100)\n",
        "    means_size_100.append(sample.mean())\n",
        "\n",
        "plt.figure(figsize=(8,5))      \n",
        "plt.hist(means_size_100, alpha=0.5);"
      ],
      "metadata": {
        "colab": {
          "base_uri": "https://localhost:8080/",
          "height": 320
        },
        "id": "iH0z4lO_H6KW",
        "outputId": "446d2aa9-91ec-49a2-fdb3-154c44ccd338"
      },
      "execution_count": null,
      "outputs": [
        {
          "output_type": "display_data",
          "data": {
            "text/plain": [
              "<Figure size 576x360 with 1 Axes>"
            ],
            "image/png": "[encoded data removed]"
          },
          "metadata": {
            "needs_background": "light"
          }
        }
      ]
    },
    {
      "cell_type": "code",
      "source": [
        "# 샘플 개수가 100개일 때 표본 분포의 평균 확인\n",
        "means_size_100 = np.array(means_size_100)\n",
        "\n",
        "means_size_100_mean = means_size_100.mean()\n",
        "means_size_100_mean"
      ],
      "metadata": {
        "colab": {
          "base_uri": "https://localhost:8080/"
        },
        "id": "ki_ipHUrJIlp",
        "outputId": "58f2cec5-c1a3-4b57-dd15-607cb9fee69f"
      },
      "execution_count": null,
      "outputs": [
        {
          "output_type": "execute_result",
          "data": {
            "text/plain": [
              "0.0989483901939587"
            ]
          },
          "metadata": {},
          "execution_count": 76
        }
      ]
    },
    {
      "cell_type": "code",
      "source": [
        "# 샘플 개수가 100개일 때 표본 분포의 분산 확인\n",
        "means_size_100_var = means_size_100.var()\n",
        "means_size_100_var"
      ],
      "metadata": {
        "colab": {
          "base_uri": "https://localhost:8080/"
        },
        "id": "H0BlqIrnJIVV",
        "outputId": "d525858f-4f44-4460-97f3-d1984a3e9ac3"
      },
      "execution_count": null,
      "outputs": [
        {
          "output_type": "execute_result",
          "data": {
            "text/plain": [
              "7.983287317974839e-05"
            ]
          },
          "metadata": {},
          "execution_count": 77
        }
      ]
    },
    {
      "cell_type": "markdown",
      "source": [
        "> **🔎 해설** <br>\n",
        "\n",
        "- `샘플 사이즈를 3`으로 표본의 평균 분포를 시뮬레이트한 경우 skewedness가 조금은 나아졌지만 **여전히 right-skewed 되어 있음**을 알 수 있습니다. \n",
        "- 하지만 `샘플 사이를 100`으로 증가한 후, 표본의 평균 분포는 어떠한 skewedness 없이 **완전한 정규 분포를 이루고 있음**을 알 수 있습니다.\n",
        "- 즉, 우리의 **모집단이 heavily right-skewed 되어 있는 분포**를 이루고 있었음에도 이 모집단에서 충분한 개수의 샘플을 추출해 그것의 평균의 표본 분포를 시뮬레이트 하게 되면 ***표본 분포는 정규분포를 띄게 됩니다.*** 그리고 이것을 바로 **중심 극한 정리**라 합니다.\n",
        "- 두 표본 분포의 평균값을 확인한 결과, 우리가 위에서 확인했듯이 두 **표본 분포의 평균값은 모집단의 평균 근처에 존재**하고 있습니다. \n",
        "- 두 표본 분포의 분산은 샘플 사이가 많아질수록 작아지는 것 또한 확인할 수 있습니다.\n",
        "\n",
        "> ⚠️ <br>\n",
        "중심 극한 정리는 모든 표본 분포에 적용되는 것은 아닙니다. <br>\n",
        "그러면 언제 중심 극한 정리가 적용되지 않을까요? <br>\n",
        "위에서 확인했듯, **충분한 샘플 사이즈**와 함께 정규분포를 가집니다. \n",
        "\n"
      ],
      "metadata": {
        "id": "nukcwpoSJoD6"
      }
    },
    {
      "cell_type": "markdown",
      "source": [
        "# **Part 5. 신뢰 구간 (Confidence Interval)**\n",
        "\n",
        "<img width='500' src='https://i.imgur.com/K3ZtB9D.png'>\n",
        "\n",
        "마지막으로 **신뢰 구간**에 대해 공부해보도록 합니다.\n",
        "\n",
        "우리는 위에서 알 수 없는 모집단의 모수를 측정하기 위해, 한정적인 샘플을 통해 어떻게 추론할 것인지 **평균의 표본 분포**와 **부트스트랩**등의 통계적 기법을 이용해 모집단의 모수에 가장 근접한 값을 찾는 방법에 대해 배웠습니다.  \n",
        "\n",
        "여기에 우리는 **신뢰 구간**을 더하도록 합니다. <br>\n",
        "우리가 찾고자 하는 모집단의 모수는 알 수 없기에 만약 모수의 값을 어떠한 특정 값 (a single estimate)으로 추정한다면 많은 불확실성을 초래합니다. 그러기에 어떠한 특정 값을 추정 또는 예측하기보다는 **모수가 포함되어 있을 구간을 확률과 함께 제공**하여 불확실성을 줄이고, 우리가 찾은 모수의 신뢰성을 가늠하고자 합니다. 그러기에 우리는 어떠한 모수에 대한 특정 값을 예측하는 것이 아닌 이 모수를 포함하고 있을 구간을 제공하는데 이를 **신뢰구간** 이라고 합니다.  \n",
        "\n",
        "우리는 아래에서 부스트랩 테크닉을 사용하여 평균의 표본 분포를 빌드한 뒤, <br> \n",
        "***모집단의 모수를 포함할 확률이 95%가 되는 구간***을 찾도록 합니다.  "
      ],
      "metadata": {
        "id": "_hnpAsYTBkkd"
      }
    },
    {
      "cell_type": "code",
      "source": [
        "sample_of_100 = np.array(sample_of_100)"
      ],
      "metadata": {
        "id": "_8lG8LrPh1U6"
      },
      "execution_count": null,
      "outputs": []
    },
    {
      "cell_type": "code",
      "source": [
        "sample_of_100_mean = sample_of_100.mean()\n",
        "sample_of_100_mean"
      ],
      "metadata": {
        "colab": {
          "base_uri": "https://localhost:8080/"
        },
        "id": "qgXNidy0isZC",
        "outputId": "65744331-3fff-4aa7-f41d-219fcfc64595"
      },
      "execution_count": null,
      "outputs": [
        {
          "output_type": "execute_result",
          "data": {
            "text/plain": [
              "0.7785479999999999"
            ]
          },
          "metadata": {},
          "execution_count": 79
        }
      ]
    },
    {
      "cell_type": "code",
      "source": [
        "lower, upper = np.percentile(sample_of_100, 2.5), np.percentile(sample_of_100, 97.5) \n",
        "lower, upper"
      ],
      "metadata": {
        "id": "VsQKgnrlm1Wv",
        "colab": {
          "base_uri": "https://localhost:8080/"
        },
        "outputId": "b9eb166a-5057-4336-9701-9684db99c87e"
      },
      "execution_count": null,
      "outputs": [
        {
          "output_type": "execute_result",
          "data": {
            "text/plain": [
              "(0.69, 0.86)"
            ]
          },
          "metadata": {},
          "execution_count": 82
        }
      ]
    },
    {
      "cell_type": "code",
      "source": [
        "plt.figure(figsize=(8,5)) \n",
        "plt.hist(sample_of_100, alpha=0.5)\n",
        "plt.axvline(lower, c='red', label='95% Confidence Interval')\n",
        "plt.axvline(upper, c='red')\n",
        "plt.axvline(sample_of_100_mean, c='green', label='Mean')\n",
        "plt.legend();"
      ],
      "metadata": {
        "colab": {
          "base_uri": "https://localhost:8080/",
          "height": 320
        },
        "id": "70YodAYsoTAY",
        "outputId": "c3735880-2ea4-4846-87bd-1e99e1023e95"
      },
      "execution_count": null,
      "outputs": [
        {
          "output_type": "display_data",
          "data": {
            "text/plain": [
              "<Figure size 576x360 with 1 Axes>"
            ],
            "image/png": "[encoded data removed]"
          },
          "metadata": {
            "needs_background": "light"
          }
        }
      ]
    },
    {
      "cell_type": "markdown",
      "source": [
        "> **🔎 해설** <br>\n",
        "- 위에서 여러분들은 모든 코드스테이츠 부트캠프 학생들의 비전공자 비율에 대한 95% 신뢰 구간을 빌드했습니다. \n",
        "- 우리의 모수인 모든 코드스테이츠 부트캠프 학생들의 비전공자 비율은 **69%에서 86% 사이에 있을거라 95% 확신**합니다."
      ],
      "metadata": {
        "id": "WgyvX7eVnAdn"
      }
    }
  ]
}